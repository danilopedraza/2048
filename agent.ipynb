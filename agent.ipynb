{
 "cells": [
  {
   "cell_type": "code",
   "execution_count": 2,
   "metadata": {},
   "outputs": [
    {
     "name": "stdout",
     "output_type": "stream",
     "text": [
      "Requirement already satisfied: selenium>=4.6.1 in /home/cdpm/.local/lib/python3.9/site-packages (from -r requirements.txt (line 1)) (4.6.1)\n",
      "Requirement already satisfied: trio-websocket~=0.9 in /home/cdpm/.local/lib/python3.9/site-packages (from selenium>=4.6.1->-r requirements.txt (line 1)) (0.9.2)\n",
      "Requirement already satisfied: trio~=0.17 in /home/cdpm/.local/lib/python3.9/site-packages (from selenium>=4.6.1->-r requirements.txt (line 1)) (0.22.0)\n",
      "Requirement already satisfied: certifi>=2021.10.8 in /home/cdpm/.local/lib/python3.9/site-packages (from selenium>=4.6.1->-r requirements.txt (line 1)) (2022.9.24)\n",
      "Requirement already satisfied: urllib3[socks]~=1.26 in /usr/lib/python3/dist-packages (from selenium>=4.6.1->-r requirements.txt (line 1)) (1.26.5)\n",
      "Requirement already satisfied: sortedcontainers in /home/cdpm/.local/lib/python3.9/site-packages (from trio~=0.17->selenium>=4.6.1->-r requirements.txt (line 1)) (2.4.0)\n",
      "Requirement already satisfied: idna in /home/cdpm/.local/lib/python3.9/site-packages (from trio~=0.17->selenium>=4.6.1->-r requirements.txt (line 1)) (3.4)\n",
      "Requirement already satisfied: exceptiongroup>=1.0.0rc9 in /home/cdpm/.local/lib/python3.9/site-packages (from trio~=0.17->selenium>=4.6.1->-r requirements.txt (line 1)) (1.0.4)\n",
      "Requirement already satisfied: async-generator>=1.9 in /home/cdpm/.local/lib/python3.9/site-packages (from trio~=0.17->selenium>=4.6.1->-r requirements.txt (line 1)) (1.10)\n",
      "Requirement already satisfied: sniffio in /home/cdpm/.local/lib/python3.9/site-packages (from trio~=0.17->selenium>=4.6.1->-r requirements.txt (line 1)) (1.3.0)\n",
      "Requirement already satisfied: attrs>=19.2.0 in /home/cdpm/.local/lib/python3.9/site-packages (from trio~=0.17->selenium>=4.6.1->-r requirements.txt (line 1)) (22.1.0)\n",
      "Requirement already satisfied: outcome in /home/cdpm/.local/lib/python3.9/site-packages (from trio~=0.17->selenium>=4.6.1->-r requirements.txt (line 1)) (1.2.0)\n",
      "Requirement already satisfied: wsproto>=0.14 in /home/cdpm/.local/lib/python3.9/site-packages (from trio-websocket~=0.9->selenium>=4.6.1->-r requirements.txt (line 1)) (1.2.0)\n",
      "Requirement already satisfied: PySocks!=1.5.7,<2.0,>=1.5.6 in /home/cdpm/.local/lib/python3.9/site-packages (from urllib3[socks]~=1.26->selenium>=4.6.1->-r requirements.txt (line 1)) (1.7.1)\n",
      "Requirement already satisfied: h11<1,>=0.9.0 in /home/cdpm/.local/lib/python3.9/site-packages (from wsproto>=0.14->trio-websocket~=0.9->selenium>=4.6.1->-r requirements.txt (line 1)) (0.13.0)\n",
      "Note: you may need to restart the kernel to use updated packages.\n"
     ]
    }
   ],
   "source": [
    "%pip install -r requirements.txt"
   ]
  },
  {
   "cell_type": "code",
   "execution_count": 14,
   "metadata": {},
   "outputs": [],
   "source": [
    "from game import GameOf2048"
   ]
  }
 ],
 "metadata": {
  "interpreter": {
   "hash": "31f2aee4e71d21fbe5cf8b01ff0e069b9275f58929596ceb00d14d90e3e16cd6"
  },
  "kernelspec": {
   "display_name": "Python 3.8.9 64-bit",
   "language": "python",
   "name": "python3"
  },
  "language_info": {
   "codemirror_mode": {
    "name": "ipython",
    "version": 3
   },
   "file_extension": ".py",
   "mimetype": "text/x-python",
   "name": "python",
   "nbconvert_exporter": "python",
   "pygments_lexer": "ipython3",
   "version": "3.9.2"
  },
  "orig_nbformat": 4
 },
 "nbformat": 4,
 "nbformat_minor": 2
}
