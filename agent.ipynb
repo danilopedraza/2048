{
 "cells": [
  {
   "cell_type": "code",
   "execution_count": null,
   "metadata": {},
   "outputs": [],
   "source": [
    "%pip install -r requirements.txt"
   ]
  },
  {
   "cell_type": "code",
   "execution_count": 2,
   "metadata": {},
   "outputs": [],
   "source": [
    "from control2048 import Control\n",
    "from game import GameOf2048\n",
    "import numpy as np\n",
    "from random import choices, seed"
   ]
  },
  {
   "cell_type": "code",
   "execution_count": 3,
   "metadata": {},
   "outputs": [],
   "source": [
    "class DTAgent:\n",
    "    # tries to do the move with the best expected best expected score.\n",
    "    # since the state space is so huge,\n",
    "    # we look ahead to some max depth.\n",
    "    # the depth changes depending on how many tiles are numbered.\n",
    "    # less tiles -> less risk of losing -> less lookahead to survive\n",
    "    # more tiles -> less future states to look at -> more depth (or breadth)\n",
    "    # analyzed in the same time\n",
    "\n",
    "\n",
    "    def __init__(self):\n",
    "        self.cache = {}\n",
    "        self.moves = 0\n",
    "    \n",
    "    def nextMove(self, board):\n",
    "        # we assume the board can be moved\n",
    "        moves = []\n",
    "        for move in range(4):\n",
    "            self.game = GameOf2048()\n",
    "            # moves are ints,\n",
    "            # this is explained in the GameOf2048 class definition\n",
    "\n",
    "            moved, _ = self.game.transform(board, move)\n",
    "            # numTiles = len(list(self.game.availableTiles(moved)))\n",
    "            depth = 2 # min(14//numTiles+1, 4)\n",
    "\n",
    "            if not np.array_equal(board, moved):\n",
    "                moves.append((move, self.expectedPointsFrom(moved, depth)))\n",
    "            else:\n",
    "                pass # not gonna use useless moves\n",
    "        \n",
    "        moves.sort(key=lambda x: x[1])\n",
    "        return moves[-1][0]\n",
    "\n",
    "\n",
    "    def expectedPointsFrom(self, board, depth):\n",
    "        key = str(board)\n",
    "        if key in self.cache:\n",
    "            return self.cache[key]\n",
    "        \n",
    "        lost = self.game.verifyLoss(board)\n",
    "        if depth == 0 or lost:\n",
    "            self.cache[str(board)] = 0\n",
    "            return 0\n",
    "        # else...\n",
    "\n",
    "        score = 0\n",
    "\n",
    "        for move in range(4):\n",
    "            moved, points = self.game.transform(board, move)\n",
    "\n",
    "            if np.array_equal(board, moved):\n",
    "                continue # nothing to do, useless move\n",
    "            else:\n",
    "                tiles = list(self.game.availableTiles(moved))\n",
    "                samples = min(len(tiles),3)\n",
    "\n",
    "                for coord in choices(tiles, k=samples):\n",
    "                    x, y = coord\n",
    "                    \n",
    "                    moved[x,y] = 4\n",
    "                    score += points+self.expectedPointsFrom(moved, depth-1)\n",
    "\n",
    "                    moved[x,y] = 2\n",
    "                    score += 9*(points+self.expectedPointsFrom(moved, depth-1))\n",
    "                    \n",
    "                    moved[x,y] = 0\n",
    "        \n",
    "        self.cache[str(board)] = score\n",
    "\n",
    "        return score"
   ]
  },
  {
   "cell_type": "code",
   "execution_count": 7,
   "metadata": {},
   "outputs": [
    {
     "name": "stdout",
     "output_type": "stream",
     "text": [
      "[[0 0 0 0]\n",
      " [0 0 0 2]\n",
      " [0 0 0 0]\n",
      " [0 0 0 2]]\n",
      "\n",
      "[[0 0 0 4]\n",
      " [2 0 0 0]\n",
      " [0 0 0 0]\n",
      " [0 0 0 0]]\n"
     ]
    }
   ],
   "source": []
  },
  {
   "cell_type": "code",
   "execution_count": 5,
   "metadata": {},
   "outputs": [
    {
     "name": "stdout",
     "output_type": "stream",
     "text": [
      "[[0 2 0 2]\n",
      " [0 0 0 2]\n",
      " [0 0 0 0]\n",
      " [0 0 0 0]]\n"
     ]
    }
   ],
   "source": [
    "env = GameOf2048()\n",
    "agent = DTAgent()\n",
    "\n",
    "seed(0)\n",
    "points = []\n",
    "steps = []\n",
    "lost = []\n",
    "maxTile = []\n",
    "\n",
    "for _ in range(1):\n",
    "    env.reset()\n",
    "    \n",
    "    total = 0\n",
    "    \n",
    "    stepAdded = False\n",
    "    for step in range(1000):\n",
    "        if env.lost:\n",
    "            steps.append(step+1)\n",
    "            stepAdded=True\n",
    "            break\n",
    "        total += env.step(agent.nextMove(env.currentBoard))[1]\n",
    "        \n",
    "    if not stepAdded:\n",
    "        steps.append(step+1)\n",
    "    points.append(total)\n",
    "    lost.append(env.lost)\n",
    "    maxTile.append(np.max(env.currentBoard))"
   ]
  },
  {
   "cell_type": "code",
   "execution_count": null,
   "metadata": {},
   "outputs": [
    {
     "data": {
      "text/plain": [
       "(0, 744.0, 7.44, 0.0)"
      ]
     },
     "execution_count": 5,
     "metadata": {},
     "output_type": "execute_result"
    }
   ],
   "source": [
    "min(points),max(points),np.mean(points),np.median(points)"
   ]
  },
  {
   "cell_type": "code",
   "execution_count": null,
   "metadata": {},
   "outputs": [
    {
     "data": {
      "text/plain": [
       "1.0"
      ]
     },
     "execution_count": 6,
     "metadata": {},
     "output_type": "execute_result"
    }
   ],
   "source": [
    "len([i for i in lost if i])/len(lost)"
   ]
  },
  {
   "cell_type": "code",
   "execution_count": null,
   "metadata": {},
   "outputs": [
    {
     "data": {
      "text/plain": [
       "64"
      ]
     },
     "execution_count": 7,
     "metadata": {},
     "output_type": "execute_result"
    }
   ],
   "source": [
    "max(maxTile)"
   ]
  },
  {
   "cell_type": "code",
   "execution_count": null,
   "metadata": {},
   "outputs": [
    {
     "data": {
      "text/plain": [
       "100"
      ]
     },
     "execution_count": 8,
     "metadata": {},
     "output_type": "execute_result"
    }
   ],
   "source": [
    "max(steps)"
   ]
  }
 ],
 "metadata": {
  "interpreter": {
   "hash": "31f2aee4e71d21fbe5cf8b01ff0e069b9275f58929596ceb00d14d90e3e16cd6"
  },
  "kernelspec": {
   "display_name": "Python 3.8.9 64-bit",
   "language": "python",
   "name": "python3"
  },
  "language_info": {
   "codemirror_mode": {
    "name": "ipython",
    "version": 3
   },
   "file_extension": ".py",
   "mimetype": "text/x-python",
   "name": "python",
   "nbconvert_exporter": "python",
   "pygments_lexer": "ipython3",
   "version": "3.9.2"
  },
  "orig_nbformat": 4
 },
 "nbformat": 4,
 "nbformat_minor": 2
}
