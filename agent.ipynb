{
 "cells": [
  {
   "cell_type": "code",
   "execution_count": null,
   "metadata": {},
   "outputs": [],
   "source": [
    "%pip install -r requirements.txt"
   ]
  },
  {
   "cell_type": "code",
   "execution_count": 2,
   "metadata": {},
   "outputs": [],
   "source": [
    "from control2048 import Control\n",
    "from game import GameOf2048\n",
    "import numpy as np\n",
    "from random import choices, seed"
   ]
  },
  {
   "cell_type": "code",
   "execution_count": 3,
   "metadata": {},
   "outputs": [],
   "source": [
    "class DTAgent:\n",
    "    # tries to do the move with the best expected survival (not losing),\n",
    "    # in contrast of going for the best expected score.\n",
    "    # since the state space is so huge,\n",
    "    # we look ahead to some max depth.\n",
    "    # the depth changes depending on how many tiles are numbered.\n",
    "    # less tiles -> less risk of losing -> less lookahead to survive\n",
    "    # and even better!\n",
    "    # more tiles -> less future states to look at -> more depth analyzed in the same time\n",
    "    # since we are going to look for everything to some depth, we don't care about search order\n",
    "\n",
    "\n",
    "    def __init__(self, maxDepth=10):\n",
    "        self.maxDepth = maxDepth\n",
    "        self.cache = {}\n",
    "        self.moves = 0\n",
    "    \n",
    "    def nextMove(self, board):\n",
    "        # we assume the board can be moved\n",
    "        moves = []\n",
    "        for move in range(4):\n",
    "            self.game = GameOf2048()\n",
    "            # moves are ints,\n",
    "            # this is explained in the GameOf2048 class definition\n",
    "\n",
    "\n",
    "\n",
    "            moved, _ = self.game.transform(board, move)\n",
    "            if not np.array_equal(board, moved):\n",
    "                availableTiles = len(list(self.game.availableTiles(moved)))\n",
    "                \n",
    "                if availableTiles <= 3:\n",
    "                    depth = 4\n",
    "                elif 3 < availableTiles <= 8:\n",
    "                    depth = 3\n",
    "                else:\n",
    "                    depth = 2\n",
    "\n",
    "                moves.append((move, self.numberOfLossesFrom(board, depth)))\n",
    "            else:\n",
    "                pass # not gonna use useless moves\n",
    "        \n",
    "        moves.sort(key=lambda x: x[1])\n",
    "        return moves[0][0]\n",
    "\n",
    "\n",
    "    def numberOfLossesFrom(self, board, depth):\n",
    "        key = str(board)\n",
    "        if key in self.cache:\n",
    "            return self.cache[key]\n",
    "        \n",
    "        lost = self.game.verifyLoss(board)\n",
    "        if depth == 0 or lost:\n",
    "            self.cache[str(board)] = lost\n",
    "            return lost\n",
    "        # else...\n",
    "\n",
    "        score = 0\n",
    "\n",
    "        for move in range(3):\n",
    "            moved, _ = self.game.transform(board, move)\n",
    "\n",
    "            if np.array_equal(board, moved):\n",
    "                continue # nothing to do, not gonna count useless moves\n",
    "            else:\n",
    "                tiles = list(self.game.availableTiles(moved))\n",
    "                samples = [\n",
    "                    0,\n",
    "                    5,5,5,\n",
    "                    4,4,4,\n",
    "                    3,3,3,3,\n",
    "                    2,2,2,2\n",
    "                ][len(tiles)]\n",
    "                for coord in choices(tiles, k=samples):\n",
    "                    x, y = coord\n",
    "                    \n",
    "                    moved[x,y] = 4\n",
    "                    score += self.numberOfLossesFrom(moved, depth-1)\n",
    "\n",
    "                    moved[x,y] = 2\n",
    "                    score += 9*self.numberOfLossesFrom(moved, depth-1)\n",
    "                    \n",
    "                    moved[x,y] = 0\n",
    "        \n",
    "        self.cache[str(board)] = score\n",
    "\n",
    "        return score"
   ]
  },
  {
   "cell_type": "code",
   "execution_count": 4,
   "metadata": {},
   "outputs": [],
   "source": [
    "env = GameOf2048()\n",
    "agent = DTAgent()\n",
    "\n",
    "seed(0)\n",
    "points = []\n",
    "steps = []\n",
    "lost = []\n",
    "maxTile = []\n",
    "\n",
    "for _ in range(100):\n",
    "    total = 0\n",
    "    \n",
    "    stepAdded = False\n",
    "    for step in range(100000):\n",
    "        if env.lost:\n",
    "            steps.append(step+1)\n",
    "            stepAdded=True\n",
    "            break\n",
    "        total += env.step(agent.nextMove(env.currentBoard))[1]\n",
    "        \n",
    "    if not stepAdded:\n",
    "        steps.append(step+1)\n",
    "    points.append(total)\n",
    "    lost.append(env.lost)\n",
    "    maxTile.append(np.max(env.currentBoard))\n",
    "\n",
    "\n",
    "\n"
   ]
  },
  {
   "cell_type": "code",
   "execution_count": 5,
   "metadata": {},
   "outputs": [
    {
     "data": {
      "text/plain": [
       "1604.0"
      ]
     },
     "execution_count": 5,
     "metadata": {},
     "output_type": "execute_result"
    }
   ],
   "source": [
    "max(points)"
   ]
  },
  {
   "cell_type": "code",
   "execution_count": 6,
   "metadata": {},
   "outputs": [
    {
     "data": {
      "text/plain": [
       "1.0"
      ]
     },
     "execution_count": 6,
     "metadata": {},
     "output_type": "execute_result"
    }
   ],
   "source": [
    "len([i for i in lost if i])/len(lost)"
   ]
  },
  {
   "cell_type": "code",
   "execution_count": 7,
   "metadata": {},
   "outputs": [
    {
     "data": {
      "text/plain": [
       "128"
      ]
     },
     "execution_count": 7,
     "metadata": {},
     "output_type": "execute_result"
    }
   ],
   "source": [
    "max(maxTile)"
   ]
  }
 ],
 "metadata": {
  "interpreter": {
   "hash": "31f2aee4e71d21fbe5cf8b01ff0e069b9275f58929596ceb00d14d90e3e16cd6"
  },
  "kernelspec": {
   "display_name": "Python 3.8.9 64-bit",
   "language": "python",
   "name": "python3"
  },
  "language_info": {
   "codemirror_mode": {
    "name": "ipython",
    "version": 3
   },
   "file_extension": ".py",
   "mimetype": "text/x-python",
   "name": "python",
   "nbconvert_exporter": "python",
   "pygments_lexer": "ipython3",
   "version": "3.9.2"
  },
  "orig_nbformat": 4
 },
 "nbformat": 4,
 "nbformat_minor": 2
}
