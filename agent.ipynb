{
 "cells": [
  {
   "cell_type": "code",
   "execution_count": 1,
   "metadata": {},
   "outputs": [
    {
     "name": "stdout",
     "output_type": "stream",
     "text": [
      "Requirement already satisfied: gym in /home/cdpm/.local/lib/python3.9/site-packages (from -r requirements.txt (line 1)) (0.26.2)\n",
      "Requirement already satisfied: selenium>=4.6.1 in /home/cdpm/.local/lib/python3.9/site-packages (from -r requirements.txt (line 2)) (4.6.1)\n",
      "Requirement already satisfied: tensorflow in /home/cdpm/.local/lib/python3.9/site-packages (from -r requirements.txt (line 3)) (2.11.0)\n",
      "Requirement already satisfied: trio-websocket~=0.9 in /home/cdpm/.local/lib/python3.9/site-packages (from selenium>=4.6.1->-r requirements.txt (line 2)) (0.9.2)\n",
      "Requirement already satisfied: trio~=0.17 in /home/cdpm/.local/lib/python3.9/site-packages (from selenium>=4.6.1->-r requirements.txt (line 2)) (0.22.0)\n",
      "Requirement already satisfied: urllib3[socks]~=1.26 in /usr/lib/python3/dist-packages (from selenium>=4.6.1->-r requirements.txt (line 2)) (1.26.5)\n",
      "Requirement already satisfied: certifi>=2021.10.8 in /home/cdpm/.local/lib/python3.9/site-packages (from selenium>=4.6.1->-r requirements.txt (line 2)) (2022.9.24)\n",
      "Requirement already satisfied: sortedcontainers in /home/cdpm/.local/lib/python3.9/site-packages (from trio~=0.17->selenium>=4.6.1->-r requirements.txt (line 2)) (2.4.0)\n",
      "Requirement already satisfied: sniffio in /home/cdpm/.local/lib/python3.9/site-packages (from trio~=0.17->selenium>=4.6.1->-r requirements.txt (line 2)) (1.3.0)\n",
      "Requirement already satisfied: exceptiongroup>=1.0.0rc9 in /home/cdpm/.local/lib/python3.9/site-packages (from trio~=0.17->selenium>=4.6.1->-r requirements.txt (line 2)) (1.0.4)\n",
      "Requirement already satisfied: attrs>=19.2.0 in /home/cdpm/.local/lib/python3.9/site-packages (from trio~=0.17->selenium>=4.6.1->-r requirements.txt (line 2)) (22.1.0)\n",
      "Requirement already satisfied: async-generator>=1.9 in /home/cdpm/.local/lib/python3.9/site-packages (from trio~=0.17->selenium>=4.6.1->-r requirements.txt (line 2)) (1.10)\n",
      "Requirement already satisfied: outcome in /home/cdpm/.local/lib/python3.9/site-packages (from trio~=0.17->selenium>=4.6.1->-r requirements.txt (line 2)) (1.2.0)\n",
      "Requirement already satisfied: idna in /home/cdpm/.local/lib/python3.9/site-packages (from trio~=0.17->selenium>=4.6.1->-r requirements.txt (line 2)) (3.4)\n",
      "Requirement already satisfied: wsproto>=0.14 in /home/cdpm/.local/lib/python3.9/site-packages (from trio-websocket~=0.9->selenium>=4.6.1->-r requirements.txt (line 2)) (1.2.0)\n",
      "Requirement already satisfied: PySocks!=1.5.7,<2.0,>=1.5.6 in /home/cdpm/.local/lib/python3.9/site-packages (from urllib3[socks]~=1.26->selenium>=4.6.1->-r requirements.txt (line 2)) (1.7.1)\n",
      "Requirement already satisfied: h11<1,>=0.9.0 in /home/cdpm/.local/lib/python3.9/site-packages (from wsproto>=0.14->trio-websocket~=0.9->selenium>=4.6.1->-r requirements.txt (line 2)) (0.13.0)\n",
      "Requirement already satisfied: cloudpickle>=1.2.0 in /home/cdpm/.local/lib/python3.9/site-packages (from gym->-r requirements.txt (line 1)) (2.2.0)\n",
      "Requirement already satisfied: numpy>=1.18.0 in /home/cdpm/.local/lib/python3.9/site-packages (from gym->-r requirements.txt (line 1)) (1.23.4)\n",
      "Requirement already satisfied: gym-notices>=0.0.4 in /home/cdpm/.local/lib/python3.9/site-packages (from gym->-r requirements.txt (line 1)) (0.0.8)\n",
      "Requirement already satisfied: importlib-metadata>=4.8.0 in /home/cdpm/.local/lib/python3.9/site-packages (from gym->-r requirements.txt (line 1)) (5.1.0)\n",
      "Requirement already satisfied: zipp>=0.5 in /home/cdpm/.local/lib/python3.9/site-packages (from importlib-metadata>=4.8.0->gym->-r requirements.txt (line 1)) (3.11.0)\n",
      "Requirement already satisfied: wrapt>=1.11.0 in /home/cdpm/.local/lib/python3.9/site-packages (from tensorflow->-r requirements.txt (line 3)) (1.14.1)\n",
      "Requirement already satisfied: setuptools in /usr/lib/python3/dist-packages (from tensorflow->-r requirements.txt (line 3)) (52.0.0)\n",
      "Requirement already satisfied: packaging in /home/cdpm/.local/lib/python3.9/site-packages (from tensorflow->-r requirements.txt (line 3)) (21.3)\n",
      "Requirement already satisfied: tensorflow-io-gcs-filesystem>=0.23.1 in /home/cdpm/.local/lib/python3.9/site-packages (from tensorflow->-r requirements.txt (line 3)) (0.28.0)\n",
      "Requirement already satisfied: astunparse>=1.6.0 in /home/cdpm/.local/lib/python3.9/site-packages (from tensorflow->-r requirements.txt (line 3)) (1.6.3)\n",
      "Requirement already satisfied: opt-einsum>=2.3.2 in /home/cdpm/.local/lib/python3.9/site-packages (from tensorflow->-r requirements.txt (line 3)) (3.3.0)\n",
      "Requirement already satisfied: keras<2.12,>=2.11.0 in /home/cdpm/.local/lib/python3.9/site-packages (from tensorflow->-r requirements.txt (line 3)) (2.11.0)\n",
      "Requirement already satisfied: tensorboard<2.12,>=2.11 in /home/cdpm/.local/lib/python3.9/site-packages (from tensorflow->-r requirements.txt (line 3)) (2.11.0)\n",
      "Requirement already satisfied: google-pasta>=0.1.1 in /home/cdpm/.local/lib/python3.9/site-packages (from tensorflow->-r requirements.txt (line 3)) (0.2.0)\n",
      "Requirement already satisfied: termcolor>=1.1.0 in /home/cdpm/.local/lib/python3.9/site-packages (from tensorflow->-r requirements.txt (line 3)) (2.1.1)\n",
      "Requirement already satisfied: grpcio<2.0,>=1.24.3 in /home/cdpm/.local/lib/python3.9/site-packages (from tensorflow->-r requirements.txt (line 3)) (1.51.1)\n",
      "Requirement already satisfied: gast<=0.4.0,>=0.2.1 in /home/cdpm/.local/lib/python3.9/site-packages (from tensorflow->-r requirements.txt (line 3)) (0.4.0)\n",
      "Requirement already satisfied: flatbuffers>=2.0 in /home/cdpm/.local/lib/python3.9/site-packages (from tensorflow->-r requirements.txt (line 3)) (22.11.23)\n",
      "Requirement already satisfied: tensorflow-estimator<2.12,>=2.11.0 in /home/cdpm/.local/lib/python3.9/site-packages (from tensorflow->-r requirements.txt (line 3)) (2.11.0)\n",
      "Requirement already satisfied: absl-py>=1.0.0 in /home/cdpm/.local/lib/python3.9/site-packages (from tensorflow->-r requirements.txt (line 3)) (1.3.0)\n",
      "Requirement already satisfied: six>=1.12.0 in /usr/lib/python3/dist-packages (from tensorflow->-r requirements.txt (line 3)) (1.16.0)\n",
      "Requirement already satisfied: h5py>=2.9.0 in /home/cdpm/.local/lib/python3.9/site-packages (from tensorflow->-r requirements.txt (line 3)) (3.7.0)\n",
      "Requirement already satisfied: typing-extensions>=3.6.6 in /home/cdpm/.local/lib/python3.9/site-packages (from tensorflow->-r requirements.txt (line 3)) (4.3.0)\n",
      "Requirement already satisfied: protobuf<3.20,>=3.9.2 in /home/cdpm/.local/lib/python3.9/site-packages (from tensorflow->-r requirements.txt (line 3)) (3.19.6)\n",
      "Requirement already satisfied: libclang>=13.0.0 in /home/cdpm/.local/lib/python3.9/site-packages (from tensorflow->-r requirements.txt (line 3)) (14.0.6)\n",
      "Requirement already satisfied: wheel<1.0,>=0.23.0 in /usr/lib/python3/dist-packages (from astunparse>=1.6.0->tensorflow->-r requirements.txt (line 3)) (0.34.2)\n",
      "Requirement already satisfied: tensorboard-plugin-wit>=1.6.0 in /home/cdpm/.local/lib/python3.9/site-packages (from tensorboard<2.12,>=2.11->tensorflow->-r requirements.txt (line 3)) (1.8.1)\n",
      "Requirement already satisfied: google-auth<3,>=1.6.3 in /home/cdpm/.local/lib/python3.9/site-packages (from tensorboard<2.12,>=2.11->tensorflow->-r requirements.txt (line 3)) (2.15.0)\n",
      "Requirement already satisfied: werkzeug>=1.0.1 in /home/cdpm/.local/lib/python3.9/site-packages (from tensorboard<2.12,>=2.11->tensorflow->-r requirements.txt (line 3)) (2.2.2)\n",
      "Requirement already satisfied: requests<3,>=2.21.0 in /usr/lib/python3/dist-packages (from tensorboard<2.12,>=2.11->tensorflow->-r requirements.txt (line 3)) (2.25.1)\n",
      "Requirement already satisfied: google-auth-oauthlib<0.5,>=0.4.1 in /home/cdpm/.local/lib/python3.9/site-packages (from tensorboard<2.12,>=2.11->tensorflow->-r requirements.txt (line 3)) (0.4.6)\n",
      "Requirement already satisfied: tensorboard-data-server<0.7.0,>=0.6.0 in /home/cdpm/.local/lib/python3.9/site-packages (from tensorboard<2.12,>=2.11->tensorflow->-r requirements.txt (line 3)) (0.6.1)\n",
      "Requirement already satisfied: markdown>=2.6.8 in /home/cdpm/.local/lib/python3.9/site-packages (from tensorboard<2.12,>=2.11->tensorflow->-r requirements.txt (line 3)) (3.4.1)\n",
      "Requirement already satisfied: rsa<5,>=3.1.4 in /home/cdpm/.local/lib/python3.9/site-packages (from google-auth<3,>=1.6.3->tensorboard<2.12,>=2.11->tensorflow->-r requirements.txt (line 3)) (4.9)\n",
      "Requirement already satisfied: cachetools<6.0,>=2.0.0 in /home/cdpm/.local/lib/python3.9/site-packages (from google-auth<3,>=1.6.3->tensorboard<2.12,>=2.11->tensorflow->-r requirements.txt (line 3)) (5.2.0)\n",
      "Requirement already satisfied: pyasn1-modules>=0.2.1 in /home/cdpm/.local/lib/python3.9/site-packages (from google-auth<3,>=1.6.3->tensorboard<2.12,>=2.11->tensorflow->-r requirements.txt (line 3)) (0.2.8)\n",
      "Requirement already satisfied: requests-oauthlib>=0.7.0 in /home/cdpm/.local/lib/python3.9/site-packages (from google-auth-oauthlib<0.5,>=0.4.1->tensorboard<2.12,>=2.11->tensorflow->-r requirements.txt (line 3)) (1.3.1)\n",
      "Requirement already satisfied: pyasn1<0.5.0,>=0.4.6 in /home/cdpm/.local/lib/python3.9/site-packages (from pyasn1-modules>=0.2.1->google-auth<3,>=1.6.3->tensorboard<2.12,>=2.11->tensorflow->-r requirements.txt (line 3)) (0.4.8)\n",
      "Requirement already satisfied: oauthlib>=3.0.0 in /home/cdpm/.local/lib/python3.9/site-packages (from requests-oauthlib>=0.7.0->google-auth-oauthlib<0.5,>=0.4.1->tensorboard<2.12,>=2.11->tensorflow->-r requirements.txt (line 3)) (3.2.2)\n",
      "Requirement already satisfied: MarkupSafe>=2.1.1 in /home/cdpm/.local/lib/python3.9/site-packages (from werkzeug>=1.0.1->tensorboard<2.12,>=2.11->tensorflow->-r requirements.txt (line 3)) (2.1.1)\n",
      "Requirement already satisfied: pyparsing!=3.0.5,>=2.0.2 in /home/cdpm/.local/lib/python3.9/site-packages (from packaging->tensorflow->-r requirements.txt (line 3)) (3.0.9)\n",
      "Note: you may need to restart the kernel to use updated packages.\n"
     ]
    }
   ],
   "source": [
    "%pip install -r requirements.txt"
   ]
  },
  {
   "cell_type": "markdown",
   "metadata": {},
   "source": [
    "# Agentes para el juego 2048"
   ]
  },
  {
   "cell_type": "code",
   "execution_count": 2,
   "metadata": {},
   "outputs": [],
   "source": [
    "from game import GameOf2048\n",
    "import numpy as np\n",
    "from random import choices, seed"
   ]
  },
  {
   "cell_type": "markdown",
   "metadata": {},
   "source": [
    "## Búsqueda Montecarlo"
   ]
  },
  {
   "cell_type": "markdown",
   "metadata": {},
   "source": [
    "El agente intenta predecir los puntajes obtenidos en cada movimiento recorriendo varios escenarios futuros. Más específicamente, se busca en dos movimientos hacia adelante y hasta tres escenarios nuevos por cada movimiento."
   ]
  },
  {
   "cell_type": "code",
   "execution_count": 3,
   "metadata": {},
   "outputs": [],
   "source": [
    "class DTAgent:\n",
    "    # tries to do the move with the best expected best expected score.\n",
    "    # since the state space is so huge,\n",
    "    # we look ahead to some max depth.\n",
    "    # the depth changes depending on how many tiles are numbered.\n",
    "    # less tiles -> less risk of losing -> less lookahead to survive\n",
    "    # more tiles -> less breadth to look at -> more depth to look at\n",
    "\n",
    "\n",
    "    def __init__(self):\n",
    "        self.cache = {}\n",
    "        self.moves = 0\n",
    "    \n",
    "    def nextMove(self, board):\n",
    "        # we assume the board can be moved\n",
    "        moves = []\n",
    "        for move in range(4):\n",
    "            self.game = GameOf2048()\n",
    "            # moves are ints,\n",
    "            # this is explained in the GameOf2048 class definition\n",
    "\n",
    "            moved, _ = self.game.transform(board, move)\n",
    "            # numTiles = len(list(self.game.availableTiles(moved)))\n",
    "            depth = 2 # min(14//numTiles+1, 4)\n",
    "\n",
    "            if not np.array_equal(board, moved):\n",
    "                self.totalScore = 0\n",
    "                self.expectedPointsFrom(moved, depth)\n",
    "                moves.append((move, self.totalScore))\n",
    "            else:\n",
    "                pass # not gonna use useless moves\n",
    "        \n",
    "        moves.sort(key=lambda x: x[1])\n",
    "        return moves[-1][0]\n",
    "\n",
    "\n",
    "    def expectedPointsFrom(self, board, depth, pastScore=0):\n",
    "        key = str(board)\n",
    "        if key in self.cache:\n",
    "            self.totalScore += self.cache[key]\n",
    "            return\n",
    "        \n",
    "        lost = self.game.verifyLoss(board)\n",
    "        if depth == 0 or lost:\n",
    "            self.totalScore += pastScore\n",
    "            self.cache[str(board)] = pastScore\n",
    "            return\n",
    "        # else...\n",
    "\n",
    "        for move in range(4):\n",
    "            moved, points = self.game.transform(board, move)\n",
    "\n",
    "            if np.array_equal(board, moved):\n",
    "                continue # nothing to do, useless move\n",
    "            else:\n",
    "                tiles = list(self.game.availableTiles(moved))\n",
    "                samples = min(len(tiles),3)\n",
    "\n",
    "                for coord in choices(tiles, k=samples):\n",
    "                    x, y = coord\n",
    "                    \n",
    "                    moved[x,y] = 4\n",
    "                    self.expectedPointsFrom(moved, depth-1, points+pastScore)\n",
    "\n",
    "                    moved[x,y] = 2\n",
    "                    self.expectedPointsFrom(moved, depth-1, 9*(points+pastScore))\n",
    "                    \n",
    "                    moved[x,y] = 0\n",
    "                    "
   ]
  },
  {
   "cell_type": "markdown",
   "metadata": {},
   "source": [
    "### Prueba de efectitividad"
   ]
  },
  {
   "cell_type": "markdown",
   "metadata": {},
   "source": [
    "Se realizan 50 experimentos en los que el agente comienza en un tablero nuevo y puede realizar hasta 200 movimientos."
   ]
  },
  {
   "cell_type": "code",
   "execution_count": 13,
   "metadata": {},
   "outputs": [],
   "source": [
    "env = GameOf2048()\n",
    "agent = DTAgent()\n",
    "\n",
    "seed(0)\n",
    "points = []\n",
    "steps = []\n",
    "lost = []\n",
    "maxTile = []\n",
    "\n",
    "for _ in range(50):\n",
    "    env.reset()\n",
    "    \n",
    "    total = 0\n",
    "    \n",
    "    stepAdded = False\n",
    "    for step in range(200):\n",
    "        if env.lost:\n",
    "            steps.append(step+1)\n",
    "            stepAdded=True\n",
    "            break\n",
    "        total += env.step(agent.nextMove(env.currentBoard))[1]\n",
    "        \n",
    "    if not stepAdded:\n",
    "        steps.append(step+1)\n",
    "    points.append(total)\n",
    "    lost.append(env.lost)\n",
    "    maxTile.append(np.max(env.currentBoard))"
   ]
  },
  {
   "cell_type": "code",
   "execution_count": 18,
   "metadata": {},
   "outputs": [
    {
     "data": {
      "text/plain": [
       "(1276.0, 2660.0, 2452.64, 2520.0)"
      ]
     },
     "execution_count": 18,
     "metadata": {},
     "output_type": "execute_result"
    }
   ],
   "source": [
    "min(points),max(points),np.mean(points),np.median(points)"
   ]
  },
  {
   "cell_type": "markdown",
   "metadata": {},
   "source": [
    "La media y mediana de puntaje son muy cercanos al máximo puntaje."
   ]
  },
  {
   "cell_type": "code",
   "execution_count": 15,
   "metadata": {},
   "outputs": [
    {
     "data": {
      "text/plain": [
       "0.12"
      ]
     },
     "execution_count": 15,
     "metadata": {},
     "output_type": "execute_result"
    }
   ],
   "source": [
    "len([i for i in lost if i])/len(lost)"
   ]
  },
  {
   "cell_type": "markdown",
   "metadata": {},
   "source": [
    "En el 12% de los experimentos el juego se perdió."
   ]
  },
  {
   "cell_type": "code",
   "execution_count": 16,
   "metadata": {},
   "outputs": [
    {
     "data": {
      "text/plain": [
       "256"
      ]
     },
     "execution_count": 16,
     "metadata": {},
     "output_type": "execute_result"
    }
   ],
   "source": [
    "max(maxTile)"
   ]
  },
  {
   "cell_type": "markdown",
   "metadata": {},
   "source": [
    "La casilla más grande alcanzada fue 256.\n",
    "\n",
    "La siguiente pieza de código abre una instancia del juego en Mozilla Firefox y permite que el agente juegue en ella."
   ]
  },
  {
   "cell_type": "code",
   "execution_count": 24,
   "metadata": {},
   "outputs": [
    {
     "name": "stdout",
     "output_type": "stream",
     "text": [
      "420\n",
      "0\n",
      "False\n",
      "2\n"
     ]
    }
   ],
   "source": [
    "from control2048 import Control\n",
    "\n",
    "env.reset()\n",
    "    \n",
    "total = 0\n",
    "\n",
    "controller = Control(sleepTime=0.2)\n",
    "\n",
    "stepAdded = False\n",
    "for step in range(600):\n",
    "    if env.verifyLoss(controller.currentGrid):\n",
    "        print(step+1)\n",
    "        stepAdded=True\n",
    "        break\n",
    "    move = agent.nextMove(controller.currentGrid)\n",
    "    controller.pressArrow(move)\n",
    "    \n",
    "if not stepAdded:\n",
    "    print(step+1)\n",
    "print(total)\n",
    "print(env.verifyLoss(controller.currentGrid))\n",
    "print(np.max(controller.currentGrid))"
   ]
  }
 ],
 "metadata": {
  "interpreter": {
   "hash": "31f2aee4e71d21fbe5cf8b01ff0e069b9275f58929596ceb00d14d90e3e16cd6"
  },
  "kernelspec": {
   "display_name": "Python 3.8.9 64-bit",
   "language": "python",
   "name": "python3"
  },
  "language_info": {
   "codemirror_mode": {
    "name": "ipython",
    "version": 3
   },
   "file_extension": ".py",
   "mimetype": "text/x-python",
   "name": "python",
   "nbconvert_exporter": "python",
   "pygments_lexer": "ipython3",
   "version": "3.9.2"
  },
  "orig_nbformat": 4
 },
 "nbformat": 4,
 "nbformat_minor": 2
}
